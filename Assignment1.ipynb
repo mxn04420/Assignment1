{
 "cells": [
  {
   "cell_type": "markdown",
   "id": "ede93ad2",
   "metadata": {},
   "source": [
    "## Neural Networks Deep Learning\n",
    "### Name: Mounika Nagamalli\n",
    "### 700740442"
   ]
  },
  {
   "cell_type": "code",
   "execution_count": 33,
   "id": "4943f10a",
   "metadata": {},
   "outputs": [],
   "source": [
    "import warnings\n",
    "warnings.filterwarnings('ignore')"
   ]
  },
  {
   "cell_type": "markdown",
   "id": "86ec3ddc",
   "metadata": {},
   "source": [
    "### 1. Implement Naïve Bayes method using scikit-learn library. Use dataset available with name glass. Use train_test_split to create training and testing part. Evaluate the model on test part using score and classification_report"
   ]
  },
  {
   "cell_type": "code",
   "execution_count": 34,
   "id": "41451da0",
   "metadata": {},
   "outputs": [
    {
     "name": "stdout",
     "output_type": "stream",
     "text": [
      "Accuracy: 0.5581395348837209\n",
      "Classification Report:\n",
      "               precision    recall  f1-score   support\n",
      "\n",
      "           1       0.41      0.64      0.50        11\n",
      "           2       0.43      0.21      0.29        14\n",
      "           3       0.40      0.67      0.50         3\n",
      "           5       0.50      0.25      0.33         4\n",
      "           6       1.00      1.00      1.00         3\n",
      "           7       0.89      1.00      0.94         8\n",
      "\n",
      "    accuracy                           0.56        43\n",
      "   macro avg       0.60      0.63      0.59        43\n",
      "weighted avg       0.55      0.56      0.53        43\n",
      "\n",
      "Number of mislabeled points out of a total 43 points : 19\n"
     ]
    }
   ],
   "source": [
    "import pandas as pd\n",
    "from sklearn.model_selection import train_test_split\n",
    "from sklearn.naive_bayes import GaussianNB\n",
    "from sklearn.metrics import classification_report\n",
    "\n",
    "# reading the input csv file\n",
    "data = pd.read_csv('/Users/mounikanagamalli/Downloads/NNDL_Code and Data/glass.csv')\n",
    "\n",
    "# extract the target variable from data and creating 2 dataframes with and without target variable\n",
    "X = data.drop('Type', axis=1)\n",
    "y = data['Type']\n",
    "\n",
    "# spliting the glass data into training(80%) and testing sets(20%)\n",
    "X_train, X_test, y_train, y_test = train_test_split(X, y, test_size=0.2, random_state=42)\n",
    "\n",
    "# choosing Naïve Bayes classifier\n",
    "clf = GaussianNB()\n",
    "\n",
    "# feeding the training data to the classifier\n",
    "clf.fit(X_train, y_train)\n",
    "\n",
    "# checking accuracy with the test data using score\n",
    "score = clf.score(X_test, y_test)\n",
    "print(\"Accuracy:\", score)\n",
    "\n",
    "# checking accuracy with the test data using classification_report\n",
    "y_pred = clf.predict(X_test)\n",
    "report = classification_report(y_test, y_pred)\n",
    "print(\"Classification Report:\\n\", report)\n",
    "\n",
    "# gives the mislabeled count\n",
    "print(\"Number of mislabeled points out of a total %d points : %d\" % (X_test.shape[0], (y_test != y_pred).sum()))"
   ]
  },
  {
   "cell_type": "markdown",
   "id": "d33801da",
   "metadata": {},
   "source": [
    "### 2. Implement linear SVM method using scikit-learn. Use the same dataset above. Use train_test_split to create training and testing part. Evaluate the model on test part using score and"
   ]
  },
  {
   "cell_type": "code",
   "execution_count": 39,
   "id": "07498f72",
   "metadata": {},
   "outputs": [
    {
     "name": "stdout",
     "output_type": "stream",
     "text": [
      "Accuracy: 0.6511627906976745\n",
      "Classification Report:\n",
      "               precision    recall  f1-score   support\n",
      "\n",
      "           1       0.62      0.91      0.74        11\n",
      "           2       0.71      0.36      0.48        14\n",
      "           3       0.00      0.00      0.00         3\n",
      "           5       0.80      1.00      0.89         4\n",
      "           6       0.33      0.33      0.33         3\n",
      "           7       0.73      1.00      0.84         8\n",
      "\n",
      "    accuracy                           0.65        43\n",
      "   macro avg       0.53      0.60      0.55        43\n",
      "weighted avg       0.63      0.65      0.61        43\n",
      "\n",
      "Number of mislabeled points out of a total 43 points : 15\n"
     ]
    }
   ],
   "source": [
    "import pandas as pd\n",
    "from sklearn.model_selection import train_test_split\n",
    "from sklearn.svm import LinearSVC\n",
    "from sklearn.metrics import classification_report\n",
    "\n",
    "# reading the input csv file\n",
    "data = pd.read_csv('/Users/mounikanagamalli/Downloads/NNDL_Code and Data/glass.csv')\n",
    "\n",
    "# extract the target variable from data and creating 2 dataframes with and without target variable\n",
    "X = data.drop('Type', axis=1)\n",
    "y = data['Type']\n",
    "\n",
    "# spliting the glass data into training(80%) and testing sets(20%)\n",
    "X_train, X_test, y_train, y_test = train_test_split(X, y, test_size=0.2, random_state=42)\n",
    "\n",
    "# choosing linear svm classifier\n",
    "clf = LinearSVC()\n",
    "\n",
    "# feeding the training data to the classifier\n",
    "clf.fit(X_train, y_train)\n",
    "\n",
    "# checking accuracy with the test data using score\n",
    "score = clf.score(X_test, y_test)\n",
    "print(\"Accuracy:\", score)\n",
    "\n",
    "# checking accuracy with the test data using classification_report\n",
    "y_pred = clf.predict(X_test)\n",
    "report = classification_report(y_test, y_pred)\n",
    "print(\"Classification Report:\\n\", report)\n",
    "\n",
    "# gives the mislabeled count\n",
    "print(\"Number of mislabeled points out of a total %d points : %d\" % (X_test.shape[0], (y_test != y_pred).sum()))"
   ]
  },
  {
   "cell_type": "markdown",
   "id": "bc7cc655",
   "metadata": {},
   "source": [
    "### SVM gave better accuracy when compared to Naive Bayes in terms of Accuracy, Precision, Recall, and F1-score"
   ]
  },
  {
   "cell_type": "markdown",
   "id": "121fc130",
   "metadata": {},
   "source": [
    "### 3. Implement Linear Regression using scikit-learn. Import the given “Salary_Data.csv”. Split the data in train_test partitions, such that 1/3 of the data is reserved as test subset. Train and predict the model. d) Calculate the mean_squared error. e) Visualize both train and test data using scatter plot."
   ]
  },
  {
   "cell_type": "code",
   "execution_count": 36,
   "id": "732a064a",
   "metadata": {},
   "outputs": [
    {
     "name": "stdout",
     "output_type": "stream",
     "text": [
      "Mean Squared Error: 35301898.887134895\n"
     ]
    }
   ],
   "source": [
    "import pandas as pd\n",
    "import matplotlib.pyplot as plt\n",
    "from sklearn.model_selection import train_test_split\n",
    "from sklearn.linear_model import LinearRegression\n",
    "from sklearn.metrics import mean_squared_error\n",
    "\n",
    "# reading the input csv file\n",
    "data = pd.read_csv('/Users/mounikanagamalli/Downloads/NNDL_Code and Data/Salary_Data.csv')\n",
    "\n",
    "# extract the target variable from data and creating 2 dataframes with and without target variable\n",
    "X = data.drop('Salary', axis=1)\n",
    "y = data['Salary']\n",
    "\n",
    "# spliting the salary data into training(1/3) and testing sets(2/3)\n",
    "X_train, X_test, y_train, y_test = train_test_split(X, y, test_size=1/3, random_state=42)\n",
    "\n",
    "# create and train the Linear Regression model\n",
    "model = LinearRegression()\n",
    "model.fit(X_train, y_train)\n",
    "\n",
    "# predicting 'y' with the test data \n",
    "y_pred = model.predict(X_test)\n",
    "\n",
    "# calculating the mean squared error\n",
    "mse = mean_squared_error(y_test, y_pred)\n",
    "print(\"Mean Squared Error:\", mse)"
   ]
  },
  {
   "cell_type": "code",
   "execution_count": 37,
   "id": "03660ad4",
   "metadata": {},
   "outputs": [
    {
     "data": {
      "image/png": "[encoded data removed]",
      "text/plain": [
       "<Figure size 640x480 with 1 Axes>"
      ]
     },
     "metadata": {},
     "output_type": "display_data"
    }
   ],
   "source": [
    "# Visualizing the training and test data using scatter plots\n",
    "plt.scatter(X_train, y_train, color='black', label='Training Data')\n",
    "plt.scatter(X_test, y_test, color='red', label='Testing Data')\n",
    "plt.plot(X_test, y_pred, color='green', label='Regression Line')\n",
    "plt.xlabel('Experience')\n",
    "plt.ylabel('Salary')\n",
    "plt.title('Linear Regression')\n",
    "plt.legend()\n",
    "plt.show()"
   ]
  },
  {
   "cell_type": "code",
   "execution_count": null,
   "id": "04cc795e",
   "metadata": {},
   "outputs": [],
   "source": []
  },
  {
   "cell_type": "code",
   "execution_count": null,
   "id": "8ee2eda3",
   "metadata": {},
   "outputs": [],
   "source": []
  }
 ],
 "metadata": {
  "kernelspec": {
   "display_name": "Python 3 (ipykernel)",
   "language": "python",
   "name": "python3"
  },
  "language_info": {
   "codemirror_mode": {
    "name": "ipython",
    "version": 3
   },
   "file_extension": ".py",
   "mimetype": "text/x-python",
   "name": "python",
   "nbconvert_exporter": "python",
   "pygments_lexer": "ipython3",
   "version": "3.9.13"
  }
 },
 "nbformat": 4,
 "nbformat_minor": 5
}
